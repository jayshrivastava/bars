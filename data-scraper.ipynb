{
 "cells": [
  {
   "cell_type": "code",
   "execution_count": 1,
   "metadata": {},
   "outputs": [],
   "source": [
    "from bs4 import BeautifulSoup\n",
    "import requests\n",
    "import csv\n",
    "import numpy as np\n",
    "import pandas as pd"
   ]
  },
  {
   "cell_type": "markdown",
   "metadata": {},
   "source": [
    "# Scrape Lyrics and Write to CSV"
   ]
  },
  {
   "cell_type": "code",
   "execution_count": 2,
   "metadata": {},
   "outputs": [],
   "source": [
    "def SongToCSV(url, artist, filename = 'lyrics.csv'):\n",
    "    page = requests.get(str(url))\n",
    "    html = BeautifulSoup(page.text, \"html.parser\")\n",
    "    lyrics = html.find(\"div\", class_=\"lyrics\").get_text()\n",
    "    data = np.array(lyrics.split('\\n'))\n",
    "    \n",
    "    # filter section headings eg. [Chorus]\n",
    "    data = np.array(list(filter(lambda x: x.find(']') == -1, data)))\n",
    "    # filter special chars... just '-' for now\n",
    "    data = np.array(list(filter(lambda x: x.find('—') == -1, data)))\n",
    "    # filter empty strings eg. ''\n",
    "    data = np.array(list(filter(lambda x: x != '', data)))\n",
    "    # remove duplicate entries\n",
    "    data = np.unique(data)\n",
    "    # map entries to artist, lyric values\n",
    "    data = np.array(list(map(lambda x : np.array([x, artist]), data)));\n",
    "    # create dataframe\n",
    "    data = pd.DataFrame(data)\n",
    "    \n",
    "    # write to csv\n",
    "    with open(filename, 'a') as file:\n",
    "        data.to_csv(file, header = False, index = False)\n",
    "    \n",
    "    return True"
   ]
  },
  {
   "cell_type": "markdown",
   "metadata": {},
   "source": [
    "# Read songs from songs.csv"
   ]
  },
  {
   "cell_type": "code",
   "execution_count": 3,
   "metadata": {},
   "outputs": [],
   "source": [
    "songs = pd.read_csv('songs.csv')\n",
    "for index, row in songs.iterrows():\n",
    "    tmp = SongToCSV(row.url, row.artist)"
   ]
  },
  {
   "cell_type": "markdown",
   "metadata": {},
   "source": [
    "# List of Songs/Artists by Artist Name"
   ]
  },
  {
   "cell_type": "code",
   "execution_count": 4,
   "metadata": {},
   "outputs": [
    {
     "data": {
      "text/html": [
       "<div>\n",
       "<style scoped>\n",
       "    .dataframe tbody tr th:only-of-type {\n",
       "        vertical-align: middle;\n",
       "    }\n",
       "\n",
       "    .dataframe tbody tr th {\n",
       "        vertical-align: top;\n",
       "    }\n",
       "\n",
       "    .dataframe thead th {\n",
       "        text-align: right;\n",
       "    }\n",
       "</style>\n",
       "<table border=\"1\" class=\"dataframe\">\n",
       "  <thead>\n",
       "    <tr style=\"text-align: right;\">\n",
       "      <th></th>\n",
       "      <th>artist</th>\n",
       "      <th>url</th>\n",
       "    </tr>\n",
       "  </thead>\n",
       "  <tbody>\n",
       "    <tr>\n",
       "      <th>0</th>\n",
       "      <td>Ed Sheeran</td>\n",
       "      <td>https://genius.com/Ed-sheeran-shape-of-you-lyrics</td>\n",
       "    </tr>\n",
       "    <tr>\n",
       "      <th>1</th>\n",
       "      <td>Ed Sheeran</td>\n",
       "      <td>https://genius.com/Ed-sheeran-thinking-out-lou...</td>\n",
       "    </tr>\n",
       "    <tr>\n",
       "      <th>2</th>\n",
       "      <td>Ed Sheeran</td>\n",
       "      <td>https://genius.com/Ed-sheeran-photograph-lyrics</td>\n",
       "    </tr>\n",
       "    <tr>\n",
       "      <th>3</th>\n",
       "      <td>Ed Sheeran</td>\n",
       "      <td>https://genius.com/Ed-sheeran-dont-lyrics</td>\n",
       "    </tr>\n",
       "    <tr>\n",
       "      <th>4</th>\n",
       "      <td>Ed Sheeran</td>\n",
       "      <td>https://genius.com/Ed-sheeran-perfect-lyrics</td>\n",
       "    </tr>\n",
       "    <tr>\n",
       "      <th>5</th>\n",
       "      <td>Ed Sheeran</td>\n",
       "      <td>https://genius.com/Ed-sheeran-galway-girl-lyrics</td>\n",
       "    </tr>\n",
       "    <tr>\n",
       "      <th>6</th>\n",
       "      <td>Kendrick Lamar</td>\n",
       "      <td>https://genius.com/Kendrick-lamar-humble-lyrics</td>\n",
       "    </tr>\n",
       "    <tr>\n",
       "      <th>7</th>\n",
       "      <td>Kendrick Lamar</td>\n",
       "      <td>https://genius.com/Kendrick-lamar-untitled-02-...</td>\n",
       "    </tr>\n",
       "    <tr>\n",
       "      <th>8</th>\n",
       "      <td>Kendrick Lamar</td>\n",
       "      <td>https://genius.com/Kendrick-lamar-dna-lyrics</td>\n",
       "    </tr>\n",
       "    <tr>\n",
       "      <th>9</th>\n",
       "      <td>Kendrick Lamar</td>\n",
       "      <td>https://genius.com/Kendrick-lamar-xxx-lyrics</td>\n",
       "    </tr>\n",
       "    <tr>\n",
       "      <th>10</th>\n",
       "      <td>Kendrick Lamar</td>\n",
       "      <td>https://genius.com/Kendrick-lamar-maad-city-ly...</td>\n",
       "    </tr>\n",
       "    <tr>\n",
       "      <th>11</th>\n",
       "      <td>Kendrick Lamar</td>\n",
       "      <td>https://genius.com/Kendrick-lamar-king-kunta-l...</td>\n",
       "    </tr>\n",
       "  </tbody>\n",
       "</table>\n",
       "</div>"
      ],
      "text/plain": [
       "            artist                                                url\n",
       "0       Ed Sheeran  https://genius.com/Ed-sheeran-shape-of-you-lyrics\n",
       "1       Ed Sheeran  https://genius.com/Ed-sheeran-thinking-out-lou...\n",
       "2       Ed Sheeran    https://genius.com/Ed-sheeran-photograph-lyrics\n",
       "3       Ed Sheeran          https://genius.com/Ed-sheeran-dont-lyrics\n",
       "4       Ed Sheeran       https://genius.com/Ed-sheeran-perfect-lyrics\n",
       "5       Ed Sheeran   https://genius.com/Ed-sheeran-galway-girl-lyrics\n",
       "6   Kendrick Lamar    https://genius.com/Kendrick-lamar-humble-lyrics\n",
       "7   Kendrick Lamar  https://genius.com/Kendrick-lamar-untitled-02-...\n",
       "8   Kendrick Lamar       https://genius.com/Kendrick-lamar-dna-lyrics\n",
       "9   Kendrick Lamar       https://genius.com/Kendrick-lamar-xxx-lyrics\n",
       "10  Kendrick Lamar  https://genius.com/Kendrick-lamar-maad-city-ly...\n",
       "11  Kendrick Lamar  https://genius.com/Kendrick-lamar-king-kunta-l..."
      ]
     },
     "execution_count": 4,
     "metadata": {},
     "output_type": "execute_result"
    }
   ],
   "source": [
    "songs.sort_values(['artist'], ascending=[1])"
   ]
  }
 ],
 "metadata": {
  "kernelspec": {
   "display_name": "Python 3",
   "language": "python",
   "name": "python3"
  },
  "language_info": {
   "codemirror_mode": {
    "name": "ipython",
    "version": 3
   },
   "file_extension": ".py",
   "mimetype": "text/x-python",
   "name": "python",
   "nbconvert_exporter": "python",
   "pygments_lexer": "ipython3",
   "version": "3.6.6"
  }
 },
 "nbformat": 4,
 "nbformat_minor": 2
}
