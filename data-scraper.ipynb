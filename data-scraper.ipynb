{
 "cells": [
  {
   "cell_type": "code",
   "execution_count": 84,
   "metadata": {},
   "outputs": [],
   "source": [
    "from bs4 import BeautifulSoup\n",
    "import requests\n",
    "import csv\n",
    "import numpy as np\n",
    "import pandas as pd"
   ]
  },
  {
   "cell_type": "code",
   "execution_count": 118,
   "metadata": {},
   "outputs": [
    {
     "name": "stdout",
     "output_type": "stream",
     "text": [
      "[\"The club isn't the best place to find a lover\"\n",
      " 'So the bar is where I go' 'Me and my friends at the table doing shots'\n",
      " 'Drinking fast and then we talk slow'\n",
      " 'And you come over and start up a conversation with just me'\n",
      " \"And trust me I'll give it a chance now\"\n",
      " 'Take my hand, stop, put Van the Man on the jukebox'\n",
      " \"And then we start to dance, and now I'm singing like\"\n",
      " 'Girl, you know I want your love'\n",
      " 'Your love was handmade for somebody like me'\n",
      " 'Come on now, follow my lead' \"I may be crazy, don't mind me\"\n",
      " \"Say, boy, let's not talk too much\"\n",
      " 'Grab on my waist and put that body on me' 'Come on now, follow my lead'\n",
      " 'Come, come on now, follow my lead' \"I'm in love with the shape of you\"\n",
      " 'We push and pull like a magnet do' 'Although my heart is falling too'\n",
      " \"I'm in love with your body\" 'And last night you were in my room'\n",
      " 'And now my bed sheets smell like you'\n",
      " 'Every day discovering something brand new' \"I'm in love with your body\"\n",
      " 'Oh—I—oh—I—oh—I—oh—I' \"I'm in love with your body\" 'Oh—I—oh—I—oh—I—oh—I'\n",
      " \"I'm in love with your body\" 'Oh—I—oh—I—oh—I—oh—I'\n",
      " \"I'm in love with your body\" 'Every day discovering something brand new'\n",
      " \"I'm in love with the shape of you\" 'One week in we let the story begin'\n",
      " \"We're going out on our first date\"\n",
      " 'You and me are thrifty, so go all you can eat'\n",
      " 'Fill up your bag and I fill up a plate'\n",
      " 'We talk for hours and hours about the sweet and the sour'\n",
      " 'And how your family is doing okay'\n",
      " 'Leave and get in a taxi, then kiss in the backseat'\n",
      " \"Tell the driver make the radio play, and I'm singing like\"\n",
      " 'Girl, you know I want your love'\n",
      " 'Your love was handmade for somebody like me'\n",
      " 'Come on now, follow my lead' \"I may be crazy, don't mind me\"\n",
      " \"Say, boy, let's not talk too much\"\n",
      " 'Grab on my waist and put that body on me' 'Come on now, follow my lead'\n",
      " 'Come, come on now, follow my lead' \"I'm in love with the shape of you\"\n",
      " 'We push and pull like a magnet do' 'Although my heart is falling too'\n",
      " \"I'm in love with your body\" 'And last night you were in my room'\n",
      " 'And now my bed sheets smell like you'\n",
      " 'Every day discovering something brand new' \"I'm in love with your body\"\n",
      " 'Oh—I—oh—I—oh—I—oh—I' \"I'm in love with your body\" 'Oh—I—oh—I—oh—I—oh—I'\n",
      " \"I'm in love with your body\" 'Oh—I—oh—I—oh—I—oh—I'\n",
      " \"I'm in love with your body\" 'Every day discovering something brand new'\n",
      " \"I'm in love with the shape of you\" 'Come on, be my baby, come on'\n",
      " 'Come on, be my baby, come on' 'Come on, be my baby, come on'\n",
      " 'Come on, be my baby, come on' 'Come on, be my baby, come on'\n",
      " 'Come on, be my baby, come on' 'Come on, be my baby, come on'\n",
      " 'Come on, be my baby, come on' \"I'm in love with the shape of you\"\n",
      " 'We push and pull like a magnet do' 'Although my heart is falling too'\n",
      " \"I'm in love with your body\" 'Last night you were in my room'\n",
      " 'And now my bed sheets smell like you'\n",
      " 'Every day discovering something brand new' \"I'm in love with your body\"\n",
      " 'Come on, be my baby, come on' 'Come on, be my baby, come on'\n",
      " \"I'm in love with your body\" 'Come on, be my baby, come on'\n",
      " 'Come on, be my baby, come on' \"I'm in love with your body\"\n",
      " 'Come on, be my baby, come on' 'Come on, be my baby, come on'\n",
      " \"I'm in love with your body\" 'Every day discovering something brand new'\n",
      " \"I'm in love with the shape of you\"]\n"
     ]
    }
   ],
   "source": [
    "URL = 'https://genius.com/Ed-sheeran-shape-of-you-lyrics'\n",
    "page = requests.get(URL)\n",
    "html = BeautifulSoup(page.text, \"html.parser\")\n",
    "lyrics = html.find(\"div\", class_=\"lyrics\").get_text()\n",
    "\n",
    "data = np.array(lyrics.split('\\n'))\n",
    "# filter section headings eg. [Chorus]\n",
    "data= np.array(list(filter(lambda x: x.find(']') == -1, data)))\n",
    "# filter empty strings eg. ''\n",
    "data= np.array(list(filter(lambda x: x != '', data)))\n",
    "\n",
    "print(data)\n",
    "\n",
    "# TODO WRITE TO CSV W ARTIST LABELS\n",
    "# myData = [[1, 2, 3], ['Good Morning', 'Good Evening', 'Good Afternoon']]  \n",
    "# myFile = open('csvexample3.csv', 'w')  \n",
    "# with myFile:  \n",
    "#    writer = csv.writer(myFile)\n",
    "#    writer.writerows(myData)"
   ]
  },
  {
   "cell_type": "code",
   "execution_count": null,
   "metadata": {},
   "outputs": [],
   "source": []
  },
  {
   "cell_type": "code",
   "execution_count": null,
   "metadata": {},
   "outputs": [],
   "source": []
  }
 ],
 "metadata": {
  "kernelspec": {
   "display_name": "Python 3",
   "language": "python",
   "name": "python3"
  },
  "language_info": {
   "codemirror_mode": {
    "name": "ipython",
    "version": 3
   },
   "file_extension": ".py",
   "mimetype": "text/x-python",
   "name": "python",
   "nbconvert_exporter": "python",
   "pygments_lexer": "ipython3",
   "version": "3.6.6"
  }
 },
 "nbformat": 4,
 "nbformat_minor": 2
}
